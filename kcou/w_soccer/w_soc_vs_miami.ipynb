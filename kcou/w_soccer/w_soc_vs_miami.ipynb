{
 "cells": [
  {
   "cell_type": "code",
   "execution_count": 1,
   "id": "c123e73a",
   "metadata": {},
   "outputs": [],
   "source": [
    "from urllib.request import urlopen\n",
    "import pandas as pd\n",
    "\n",
    "from bs4 import BeautifulSoup"
   ]
  },
  {
   "cell_type": "markdown",
   "id": "a6cedb6d",
   "metadata": {},
   "source": [
    "### Mizzou Roster"
   ]
  },
  {
   "cell_type": "code",
   "execution_count": 21,
   "id": "afa9dfb2",
   "metadata": {},
   "outputs": [],
   "source": [
    "url = 'https://mutigers.com/sports/womens-soccer/roster/2021'\n",
    "\n",
    "page = urlopen(url)\n",
    "html = page.read().decode('utf-8')\n",
    "soup = BeautifulSoup(html, \"html.parser\")\n",
    "\n",
    "miz_roster = pd.DataFrame()\n",
    "\n",
    "last_names = soup.find_all('span',{'class':\"sidearm-roster-player-last-name\"})\n",
    "first_names = soup.find_all('span',{'class':\"sidearm-roster-player-first-name\"})\n",
    "player_classes = soup.find_all('span',{'class':\"sidearm-roster-player-academic-year\"})\n",
    "\n",
    "lname_list = []\n",
    "for last_name in last_names:\n",
    "    lname_list.append(last_name.text)\n",
    "    \n",
    "fname_list = []\n",
    "for first_name in first_names:\n",
    "    fname_list.append(first_name.text)\n",
    "    \n",
    "class_list = []\n",
    "for player_class in player_classes:\n",
    "    class_list.append(player_class.text)\n"
   ]
  },
  {
   "cell_type": "code",
   "execution_count": 22,
   "id": "82db6b5d",
   "metadata": {},
   "outputs": [
    {
     "data": {
      "text/plain": [
       "28"
      ]
     },
     "execution_count": 22,
     "metadata": {},
     "output_type": "execute_result"
    }
   ],
   "source": [
    "len([ 'So.',\n",
    " 'Jr.',\n",
    " 'Jr.',\n",
    " 'Jr.',\n",
    " 'Fr.',\n",
    " 'Fr.',\n",
    " 'So.',\n",
    " 'Sr.',\n",
    " 'Gr.',\n",
    " 'Fr.',\n",
    " 'Fr.',\n",
    " 'Fr.',\n",
    " 'Fr.',\n",
    " 'R-So.',\n",
    " 'Sr.',\n",
    " 'So.',\n",
    " 'So.',\n",
    " 'Gr.',\n",
    " 'So.',\n",
    " 'Sr.',\n",
    " 'So.',\n",
    " 'Jr.',\n",
    " 'Fr.',\n",
    " 'R-So.',\n",
    " 'Jr.',\n",
    " 'Gr.',\n",
    " 'Jr.',\n",
    " 'Fr.'])"
   ]
  },
  {
   "cell_type": "code",
   "execution_count": 23,
   "id": "920c17bb",
   "metadata": {},
   "outputs": [],
   "source": [
    "class_list = class_list[-28:]\n",
    "lname_list = lname_list[:-9]\n",
    "fname_list = fname_list[:-9]"
   ]
  },
  {
   "cell_type": "code",
   "execution_count": 24,
   "id": "1d2fd6fc",
   "metadata": {},
   "outputs": [
    {
     "data": {
      "text/plain": [
       "Fr.      0.285714\n",
       "So.      0.214286\n",
       "Jr.      0.214286\n",
       "Sr.      0.107143\n",
       "Gr.      0.107143\n",
       "R-So.    0.071429\n",
       "Name: class, dtype: float64"
      ]
     },
     "execution_count": 24,
     "metadata": {},
     "output_type": "execute_result"
    }
   ],
   "source": [
    "miz_roster['last_name'] = lname_list\n",
    "miz_roster['first_name'] = fname_list\n",
    "miz_roster['class'] = class_list\n",
    "\n",
    "miz_roster['class'].value_counts(normalize=True)"
   ]
  },
  {
   "cell_type": "code",
   "execution_count": 25,
   "id": "3bb12a89",
   "metadata": {
    "scrolled": false
   },
   "outputs": [
    {
     "data": {
      "text/plain": [
       "Fr.      8\n",
       "So.      6\n",
       "Jr.      6\n",
       "Sr.      3\n",
       "Gr.      3\n",
       "R-So.    2\n",
       "Name: class, dtype: int64"
      ]
     },
     "execution_count": 25,
     "metadata": {},
     "output_type": "execute_result"
    }
   ],
   "source": [
    "miz_roster['class'].value_counts()"
   ]
  },
  {
   "cell_type": "markdown",
   "id": "2bdef5db",
   "metadata": {},
   "source": [
    "### Miami Roster"
   ]
  },
  {
   "cell_type": "code",
   "execution_count": 21,
   "id": "96b1df81",
   "metadata": {},
   "outputs": [],
   "source": [
    "url = 'https://mutigers.com/sports/womens-soccer/roster/2021'\n",
    "\n",
    "page = urlopen(url)\n",
    "html = page.read().decode('utf-8')\n",
    "soup = BeautifulSoup(html, \"html.parser\")\n",
    "\n",
    "um_roster = pd.DataFrame()\n",
    "\n",
    "last_names = soup.find_all('span',{'class':\"sidearm-roster-player-last-name\"})\n",
    "first_names = soup.find_all('span',{'class':\"sidearm-roster-player-first-name\"})\n",
    "player_classes = soup.find_all('span',{'class':\"sidearm-roster-player-academic-year\"})\n",
    "\n",
    "lname_list = []\n",
    "for last_name in last_names:\n",
    "    lname_list.append(last_name.text)\n",
    "    \n",
    "fname_list = []\n",
    "for first_name in first_names:\n",
    "    fname_list.append(first_name.text)\n",
    "    \n",
    "class_list = []\n",
    "for player_class in player_classes:\n",
    "    class_list.append(player_class.text)\n"
   ]
  },
  {
   "cell_type": "code",
   "execution_count": 22,
   "id": "60abf48f",
   "metadata": {},
   "outputs": [
    {
     "data": {
      "text/plain": [
       "28"
      ]
     },
     "execution_count": 22,
     "metadata": {},
     "output_type": "execute_result"
    }
   ],
   "source": [
    "len([ 'So.',\n",
    " 'Jr.',\n",
    " 'Jr.',\n",
    " 'Jr.',\n",
    " 'Fr.',\n",
    " 'Fr.',\n",
    " 'So.',\n",
    " 'Sr.',\n",
    " 'Gr.',\n",
    " 'Fr.',\n",
    " 'Fr.',\n",
    " 'Fr.',\n",
    " 'Fr.',\n",
    " 'R-So.',\n",
    " 'Sr.',\n",
    " 'So.',\n",
    " 'So.',\n",
    " 'Gr.',\n",
    " 'So.',\n",
    " 'Sr.',\n",
    " 'So.',\n",
    " 'Jr.',\n",
    " 'Fr.',\n",
    " 'R-So.',\n",
    " 'Jr.',\n",
    " 'Gr.',\n",
    " 'Jr.',\n",
    " 'Fr.'])"
   ]
  },
  {
   "cell_type": "code",
   "execution_count": 23,
   "id": "e0e24388",
   "metadata": {},
   "outputs": [],
   "source": [
    "class_list = class_list[-28:]\n",
    "lname_list = lname_list[:-9]\n",
    "fname_list = fname_list[:-9]"
   ]
  },
  {
   "cell_type": "code",
   "execution_count": 24,
   "id": "c62675d0",
   "metadata": {},
   "outputs": [
    {
     "data": {
      "text/plain": [
       "Fr.      0.285714\n",
       "So.      0.214286\n",
       "Jr.      0.214286\n",
       "Sr.      0.107143\n",
       "Gr.      0.107143\n",
       "R-So.    0.071429\n",
       "Name: class, dtype: float64"
      ]
     },
     "execution_count": 24,
     "metadata": {},
     "output_type": "execute_result"
    }
   ],
   "source": [
    "um_roster['last_name'] = lname_list\n",
    "um_roster['first_name'] = fname_list\n",
    "um_roster['class'] = class_list\n",
    "\n",
    "um_roster['class'].value_counts(normalize=True)"
   ]
  },
  {
   "cell_type": "code",
   "execution_count": 25,
   "id": "43126fd7",
   "metadata": {
    "scrolled": false
   },
   "outputs": [
    {
     "data": {
      "text/plain": [
       "Fr.      8\n",
       "So.      6\n",
       "Jr.      6\n",
       "Sr.      3\n",
       "Gr.      3\n",
       "R-So.    2\n",
       "Name: class, dtype: int64"
      ]
     },
     "execution_count": 25,
     "metadata": {},
     "output_type": "execute_result"
    }
   ],
   "source": [
    "um_roster['class'].value_counts()"
   ]
  },
  {
   "cell_type": "code",
   "execution_count": null,
   "id": "d7c23714",
   "metadata": {},
   "outputs": [],
   "source": []
  }
 ],
 "metadata": {
  "kernelspec": {
   "display_name": "Python 3",
   "language": "python",
   "name": "python3"
  },
  "language_info": {
   "codemirror_mode": {
    "name": "ipython",
    "version": 3
   },
   "file_extension": ".py",
   "mimetype": "text/x-python",
   "name": "python",
   "nbconvert_exporter": "python",
   "pygments_lexer": "ipython3",
   "version": "3.8.8"
  }
 },
 "nbformat": 4,
 "nbformat_minor": 5
}
