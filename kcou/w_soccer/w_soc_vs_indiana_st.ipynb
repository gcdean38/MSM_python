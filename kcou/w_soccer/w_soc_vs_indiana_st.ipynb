{
 "cells": [
  {
   "cell_type": "markdown",
   "id": "de400a1d",
   "metadata": {},
   "source": [
    "## Mizzou vs Indiana State History"
   ]
  },
  {
   "cell_type": "code",
   "execution_count": 1,
   "id": "0e8b5732",
   "metadata": {},
   "outputs": [],
   "source": [
    "from urllib.request import urlopen\n",
    "import pandas as pd"
   ]
  },
  {
   "cell_type": "code",
   "execution_count": 2,
   "id": "79811f74",
   "metadata": {},
   "outputs": [],
   "source": [
    "from bs4 import BeautifulSoup"
   ]
  },
  {
   "cell_type": "code",
   "execution_count": null,
   "id": "be92ebf8",
   "metadata": {},
   "outputs": [],
   "source": []
  },
  {
   "cell_type": "code",
   "execution_count": 3,
   "id": "1795ddc7",
   "metadata": {},
   "outputs": [],
   "source": [
    "years = []\n",
    "for year in range(2009,2020):\n",
    "    years.append(str(year))"
   ]
  },
  {
   "cell_type": "code",
   "execution_count": 4,
   "id": "3fd7017c",
   "metadata": {},
   "outputs": [],
   "source": [
    "base_schedule_url = 'https://gosycamores.com/sports/womens-soccer/schedule/'\n",
    "schedule_urls = []\n",
    "for year in years:\n",
    "    isu_schedule_url = base_schedule_url+year\n",
    "    schedule_urls.append(isu_schedule_url)"
   ]
  },
  {
   "cell_type": "code",
   "execution_count": 5,
   "id": "7fc7d565",
   "metadata": {},
   "outputs": [
    {
     "name": "stdout",
     "output_type": "stream",
     "text": [
      "['https://gosycamores.com/sports/womens-soccer/schedule/2009', 'https://gosycamores.com/sports/womens-soccer/schedule/2010', 'https://gosycamores.com/sports/womens-soccer/schedule/2011', 'https://gosycamores.com/sports/womens-soccer/schedule/2012', 'https://gosycamores.com/sports/womens-soccer/schedule/2013', 'https://gosycamores.com/sports/womens-soccer/schedule/2014', 'https://gosycamores.com/sports/womens-soccer/schedule/2015', 'https://gosycamores.com/sports/womens-soccer/schedule/2016', 'https://gosycamores.com/sports/womens-soccer/schedule/2017', 'https://gosycamores.com/sports/womens-soccer/schedule/2018', 'https://gosycamores.com/sports/womens-soccer/schedule/2019']\n"
     ]
    }
   ],
   "source": [
    "print(schedule_urls)"
   ]
  },
  {
   "cell_type": "code",
   "execution_count": 6,
   "id": "acc94f58",
   "metadata": {},
   "outputs": [],
   "source": [
    "isu_hist_schedule = pd.DataFrame(index=None)\n",
    "opponent_list = []\n",
    "date_list = []\n",
    "result_list = []    \n",
    "year_list = []\n",
    "for schedule_url in schedule_urls:\n",
    "    # empty lists\n",
    "\n",
    "    \n",
    "    # Set up parser\n",
    "    page = urlopen(schedule_url)\n",
    "    html = page.read().decode('utf-8')\n",
    "    soup = BeautifulSoup(html,\"html.parser\")\n",
    "    \n",
    "    # pull info\n",
    "    otags = soup.find_all('div',{\"class\":'sidearm-schedule-game-opponent-text'})\n",
    "    dtags = soup.find_all('div',{\"class\":'sidearm-schedule-game-opponent-date'})\n",
    "    rtags = soup.find_all('div',{'class':'sidearm-schedule-game-result'})\n",
    "    \n",
    "    # get result tag\n",
    "    for rtag in rtags[1::2]:\n",
    "        game_result = rtag.find('span')\n",
    "        if game_result:\n",
    "            game_results = rtag.text\n",
    "            \n",
    "            #store names\n",
    "            result_list.append(game_results.strip().replace('\\n',\" \"))\n",
    "            # print(game_results.strip().replace('\\n',\" \")+\", year: \"+schedule_url[-4:])\n",
    "            \n",
    "    # get opponent tag\n",
    "    for otag in otags[1::2]:\n",
    "        opponent = otag.find('span')\n",
    "        if opponent:\n",
    "            opponents = otag.text\n",
    "\n",
    "            # store names\n",
    "            opponent_list.append(opponents.strip().replace(\"\\n\",\" \"))\n",
    "\n",
    "            # print(opponent_names.strip())\n",
    "        year_list.append(schedule_url[-4:])\n",
    "    # get date tag\n",
    "    for dtag in dtags:\n",
    "        game_date = dtag.find('span')\n",
    "        if game_date:\n",
    "            game_dates = dtag.text\n",
    "            \n",
    "            # store names\n",
    "            date_list.append(game_dates.strip().replace(\"\\n\",\" \"))\n",
    "            # print(game_dates.strip())\n"
   ]
  },
  {
   "cell_type": "code",
   "execution_count": 7,
   "id": "ab9e7261",
   "metadata": {},
   "outputs": [
    {
     "data": {
      "text/plain": [
       "220"
      ]
     },
     "execution_count": 7,
     "metadata": {},
     "output_type": "execute_result"
    }
   ],
   "source": [
    "len(result_list)"
   ]
  },
  {
   "cell_type": "code",
   "execution_count": 8,
   "id": "3464a0b3",
   "metadata": {},
   "outputs": [],
   "source": [
    "isu_hist_schedule['opponent'] = opponent_list\n",
    "isu_hist_schedule['game_full_date'] = date_list\n",
    "isu_hist_schedule['game_year'] = year_list\n",
    "isu_hist_schedule['game_result'] = result_list\n",
    "\n",
    "isu_hist_schedule[['game_date','game_full_date']] = isu_hist_schedule['game_full_date'].str.split(\"(\",expand=True)\n",
    "isu_hist_schedule[['game_day_of_week','game_time']] = isu_hist_schedule['game_full_date'].str.split(\")\",expand=True)\n",
    "isu_hist_schedule[['game_result','game_score']] = isu_hist_schedule['game_result'].str.split(',',expand=True)"
   ]
  },
  {
   "cell_type": "code",
   "execution_count": 9,
   "id": "5ab21cbd",
   "metadata": {},
   "outputs": [],
   "source": [
    "isu_hist_schedule = isu_hist_schedule.replace('OT W',\"W\")\n",
    "isu_hist_schedule = isu_hist_schedule.replace('OT L',\"L\")\n",
    "isu_hist_schedule = isu_hist_schedule.replace('2OT W',\"W\")\n",
    "isu_hist_schedule = isu_hist_schedule.replace('2OT L',\"L\")\n",
    "isu_hist_schedule = isu_hist_schedule.replace('4-3 PKs T',\"T\")\n",
    "isu_hist_schedule = isu_hist_schedule.replace(\"W(3-2 in PK's) T\",\"T\")\n",
    "isu_hist_schedule = isu_hist_schedule.replace(\"\",\"N/A\")"
   ]
  },
  {
   "cell_type": "code",
   "execution_count": 10,
   "id": "00344b48",
   "metadata": {
    "scrolled": true
   },
   "outputs": [
    {
     "data": {
      "text/plain": [
       "L      118\n",
       "W       70\n",
       "T       19\n",
       "N/A     13\n",
       "Name: game_result, dtype: int64"
      ]
     },
     "execution_count": 10,
     "metadata": {},
     "output_type": "execute_result"
    }
   ],
   "source": [
    "isu_hist_schedule['game_result'].value_counts()"
   ]
  },
  {
   "cell_type": "code",
   "execution_count": 11,
   "id": "084f18b7",
   "metadata": {},
   "outputs": [
    {
     "data": {
      "text/html": [
       "<div>\n",
       "<style scoped>\n",
       "    .dataframe tbody tr th:only-of-type {\n",
       "        vertical-align: middle;\n",
       "    }\n",
       "\n",
       "    .dataframe tbody tr th {\n",
       "        vertical-align: top;\n",
       "    }\n",
       "\n",
       "    .dataframe thead th {\n",
       "        text-align: right;\n",
       "    }\n",
       "</style>\n",
       "<table border=\"1\" class=\"dataframe\">\n",
       "  <thead>\n",
       "    <tr style=\"text-align: right;\">\n",
       "      <th>game_result</th>\n",
       "      <th>L</th>\n",
       "      <th>N/A</th>\n",
       "      <th>T</th>\n",
       "      <th>W</th>\n",
       "    </tr>\n",
       "    <tr>\n",
       "      <th>game_year</th>\n",
       "      <th></th>\n",
       "      <th></th>\n",
       "      <th></th>\n",
       "      <th></th>\n",
       "    </tr>\n",
       "  </thead>\n",
       "  <tbody>\n",
       "    <tr>\n",
       "      <th>2009</th>\n",
       "      <td>11</td>\n",
       "      <td>0</td>\n",
       "      <td>3</td>\n",
       "      <td>5</td>\n",
       "    </tr>\n",
       "    <tr>\n",
       "      <th>2010</th>\n",
       "      <td>12</td>\n",
       "      <td>0</td>\n",
       "      <td>1</td>\n",
       "      <td>8</td>\n",
       "    </tr>\n",
       "    <tr>\n",
       "      <th>2011</th>\n",
       "      <td>13</td>\n",
       "      <td>2</td>\n",
       "      <td>0</td>\n",
       "      <td>4</td>\n",
       "    </tr>\n",
       "    <tr>\n",
       "      <th>2012</th>\n",
       "      <td>9</td>\n",
       "      <td>2</td>\n",
       "      <td>3</td>\n",
       "      <td>9</td>\n",
       "    </tr>\n",
       "    <tr>\n",
       "      <th>2013</th>\n",
       "      <td>10</td>\n",
       "      <td>2</td>\n",
       "      <td>0</td>\n",
       "      <td>9</td>\n",
       "    </tr>\n",
       "    <tr>\n",
       "      <th>2014</th>\n",
       "      <td>9</td>\n",
       "      <td>0</td>\n",
       "      <td>3</td>\n",
       "      <td>5</td>\n",
       "    </tr>\n",
       "    <tr>\n",
       "      <th>2015</th>\n",
       "      <td>10</td>\n",
       "      <td>5</td>\n",
       "      <td>1</td>\n",
       "      <td>6</td>\n",
       "    </tr>\n",
       "    <tr>\n",
       "      <th>2016</th>\n",
       "      <td>11</td>\n",
       "      <td>2</td>\n",
       "      <td>2</td>\n",
       "      <td>7</td>\n",
       "    </tr>\n",
       "    <tr>\n",
       "      <th>2017</th>\n",
       "      <td>11</td>\n",
       "      <td>0</td>\n",
       "      <td>1</td>\n",
       "      <td>7</td>\n",
       "    </tr>\n",
       "    <tr>\n",
       "      <th>2018</th>\n",
       "      <td>10</td>\n",
       "      <td>0</td>\n",
       "      <td>3</td>\n",
       "      <td>6</td>\n",
       "    </tr>\n",
       "    <tr>\n",
       "      <th>2019</th>\n",
       "      <td>12</td>\n",
       "      <td>0</td>\n",
       "      <td>2</td>\n",
       "      <td>4</td>\n",
       "    </tr>\n",
       "  </tbody>\n",
       "</table>\n",
       "</div>"
      ],
      "text/plain": [
       "game_result   L  N/A  T  W\n",
       "game_year                 \n",
       "2009         11    0  3  5\n",
       "2010         12    0  1  8\n",
       "2011         13    2  0  4\n",
       "2012          9    2  3  9\n",
       "2013         10    2  0  9\n",
       "2014          9    0  3  5\n",
       "2015         10    5  1  6\n",
       "2016         11    2  2  7\n",
       "2017         11    0  1  7\n",
       "2018         10    0  3  6\n",
       "2019         12    0  2  4"
      ]
     },
     "execution_count": 11,
     "metadata": {},
     "output_type": "execute_result"
    }
   ],
   "source": [
    "pd.crosstab(index = isu_hist_schedule['game_year'], columns = isu_hist_schedule['game_result'])"
   ]
  },
  {
   "cell_type": "code",
   "execution_count": 12,
   "id": "e9212758",
   "metadata": {},
   "outputs": [
    {
     "data": {
      "text/html": [
       "<div>\n",
       "<style scoped>\n",
       "    .dataframe tbody tr th:only-of-type {\n",
       "        vertical-align: middle;\n",
       "    }\n",
       "\n",
       "    .dataframe tbody tr th {\n",
       "        vertical-align: top;\n",
       "    }\n",
       "\n",
       "    .dataframe thead th {\n",
       "        text-align: right;\n",
       "    }\n",
       "</style>\n",
       "<table border=\"1\" class=\"dataframe\">\n",
       "  <thead>\n",
       "    <tr style=\"text-align: right;\">\n",
       "      <th>game_result</th>\n",
       "      <th>L</th>\n",
       "      <th>N/A</th>\n",
       "      <th>T</th>\n",
       "      <th>W</th>\n",
       "    </tr>\n",
       "    <tr>\n",
       "      <th>game_day_of_week</th>\n",
       "      <th></th>\n",
       "      <th></th>\n",
       "      <th></th>\n",
       "      <th></th>\n",
       "    </tr>\n",
       "  </thead>\n",
       "  <tbody>\n",
       "    <tr>\n",
       "      <th>Fri</th>\n",
       "      <td>39</td>\n",
       "      <td>1</td>\n",
       "      <td>7</td>\n",
       "      <td>28</td>\n",
       "    </tr>\n",
       "    <tr>\n",
       "      <th>Mon</th>\n",
       "      <td>1</td>\n",
       "      <td>1</td>\n",
       "      <td>0</td>\n",
       "      <td>0</td>\n",
       "    </tr>\n",
       "    <tr>\n",
       "      <th>Sat</th>\n",
       "      <td>10</td>\n",
       "      <td>4</td>\n",
       "      <td>3</td>\n",
       "      <td>5</td>\n",
       "    </tr>\n",
       "    <tr>\n",
       "      <th>Sun</th>\n",
       "      <td>45</td>\n",
       "      <td>3</td>\n",
       "      <td>9</td>\n",
       "      <td>28</td>\n",
       "    </tr>\n",
       "    <tr>\n",
       "      <th>Thu</th>\n",
       "      <td>10</td>\n",
       "      <td>0</td>\n",
       "      <td>0</td>\n",
       "      <td>5</td>\n",
       "    </tr>\n",
       "    <tr>\n",
       "      <th>Tue</th>\n",
       "      <td>1</td>\n",
       "      <td>3</td>\n",
       "      <td>0</td>\n",
       "      <td>0</td>\n",
       "    </tr>\n",
       "    <tr>\n",
       "      <th>Wed</th>\n",
       "      <td>12</td>\n",
       "      <td>1</td>\n",
       "      <td>0</td>\n",
       "      <td>4</td>\n",
       "    </tr>\n",
       "  </tbody>\n",
       "</table>\n",
       "</div>"
      ],
      "text/plain": [
       "game_result        L  N/A  T   W\n",
       "game_day_of_week                \n",
       "Fri               39    1  7  28\n",
       "Mon                1    1  0   0\n",
       "Sat               10    4  3   5\n",
       "Sun               45    3  9  28\n",
       "Thu               10    0  0   5\n",
       "Tue                1    3  0   0\n",
       "Wed               12    1  0   4"
      ]
     },
     "execution_count": 12,
     "metadata": {},
     "output_type": "execute_result"
    }
   ],
   "source": [
    "pd.crosstab(index = isu_hist_schedule['game_day_of_week'], columns = isu_hist_schedule['game_result'])"
   ]
  },
  {
   "cell_type": "markdown",
   "id": "f81df185",
   "metadata": {},
   "source": [
    "## Indiana State Roster Scrape"
   ]
  },
  {
   "cell_type": "code",
   "execution_count": 13,
   "id": "75c841cd",
   "metadata": {},
   "outputs": [],
   "source": [
    "url = 'https://gosycamores.com/sports/womens-soccer/roster/2021'"
   ]
  },
  {
   "cell_type": "code",
   "execution_count": 14,
   "id": "1d9a6f67",
   "metadata": {},
   "outputs": [],
   "source": [
    "page = urlopen(url)\n",
    "html = page.read().decode('utf-8')\n",
    "soup = BeautifulSoup(html, \"html.parser\")"
   ]
  },
  {
   "cell_type": "code",
   "execution_count": 15,
   "id": "90b08be2",
   "metadata": {},
   "outputs": [],
   "source": [
    "isu_roster_21 = pd.DataFrame()"
   ]
  },
  {
   "cell_type": "code",
   "execution_count": 16,
   "id": "ea845f10",
   "metadata": {},
   "outputs": [],
   "source": [
    "last_names = soup.find_all('span',{'class':\"sidearm-roster-player-last-name\"})\n",
    "first_names = soup.find_all('span',{'class':\"sidearm-roster-player-first-name\"})\n",
    "player_classes = soup.find_all('span',{'class':\"sidearm-roster-player-academic-year\"})"
   ]
  },
  {
   "cell_type": "code",
   "execution_count": 17,
   "id": "db818765",
   "metadata": {},
   "outputs": [],
   "source": [
    "lname_list = []\n",
    "for last_name in last_names:\n",
    "    lname_list.append(last_name.text)\n",
    "    \n",
    "fname_list = []\n",
    "for first_name in first_names:\n",
    "    fname_list.append(first_name.text)\n",
    "    \n",
    "class_list = []\n",
    "for player_class in player_classes:\n",
    "    class_list.append(player_class.text)\n"
   ]
  },
  {
   "cell_type": "code",
   "execution_count": 18,
   "id": "21e97c29",
   "metadata": {},
   "outputs": [],
   "source": [
    "class_list = class_list[-28:]\n",
    "lname_list = lname_list[:-3]\n",
    "fname_list = fname_list[:-3]"
   ]
  },
  {
   "cell_type": "code",
   "execution_count": 19,
   "id": "0c6adf29",
   "metadata": {},
   "outputs": [
    {
     "data": {
      "text/plain": [
       "28"
      ]
     },
     "execution_count": 19,
     "metadata": {},
     "output_type": "execute_result"
    }
   ],
   "source": [
    "len(lname_list)"
   ]
  },
  {
   "cell_type": "code",
   "execution_count": 20,
   "id": "4276a272",
   "metadata": {},
   "outputs": [],
   "source": [
    "isu_roster_21['last_name'] = lname_list\n",
    "isu_roster_21['first_name'] = fname_list\n",
    "isu_roster_21['class'] = class_list"
   ]
  },
  {
   "cell_type": "code",
   "execution_count": 21,
   "id": "45bb90ad",
   "metadata": {},
   "outputs": [
    {
     "data": {
      "text/plain": [
       "Jr.    0.321429\n",
       "So.    0.285714\n",
       "Fr.    0.285714\n",
       "Sr.    0.071429\n",
       "5th    0.035714\n",
       "Name: class, dtype: float64"
      ]
     },
     "execution_count": 21,
     "metadata": {},
     "output_type": "execute_result"
    }
   ],
   "source": [
    "isu_roster_21['class'].value_counts(normalize=True)"
   ]
  },
  {
   "cell_type": "code",
   "execution_count": 22,
   "id": "07fc72ea",
   "metadata": {},
   "outputs": [
    {
     "data": {
      "text/plain": [
       "0.5714285714285714"
      ]
     },
     "execution_count": 22,
     "metadata": {},
     "output_type": "execute_result"
    }
   ],
   "source": [
    "20/35"
   ]
  },
  {
   "cell_type": "markdown",
   "id": "e6a5bc74",
   "metadata": {},
   "source": [
    "## ISU 2020 roster"
   ]
  },
  {
   "cell_type": "code",
   "execution_count": 23,
   "id": "0a3b233b",
   "metadata": {},
   "outputs": [],
   "source": [
    "url = 'https://gosycamores.com/sports/womens-soccer/roster/2020'"
   ]
  },
  {
   "cell_type": "code",
   "execution_count": 24,
   "id": "913fa808",
   "metadata": {},
   "outputs": [],
   "source": [
    "page = urlopen(url)\n",
    "html = page.read().decode('utf-8')\n",
    "soup = BeautifulSoup(html, \"html.parser\")"
   ]
  },
  {
   "cell_type": "code",
   "execution_count": 25,
   "id": "fc3ec8f1",
   "metadata": {},
   "outputs": [],
   "source": [
    "isu_roster_20 = pd.DataFrame()"
   ]
  },
  {
   "cell_type": "code",
   "execution_count": 26,
   "id": "074580de",
   "metadata": {},
   "outputs": [],
   "source": [
    "last_names = soup.find_all('span',{'class':\"sidearm-roster-player-last-name\"})\n",
    "first_names = soup.find_all('span',{'class':\"sidearm-roster-player-first-name\"})\n",
    "player_classes = soup.find_all('span',{'class':\"sidearm-roster-player-academic-year\"})"
   ]
  },
  {
   "cell_type": "code",
   "execution_count": 27,
   "id": "07b8abb8",
   "metadata": {},
   "outputs": [],
   "source": [
    "lname_list = []\n",
    "for last_name in last_names:\n",
    "    lname_list.append(last_name.text)\n",
    "    \n",
    "fname_list = []\n",
    "for first_name in first_names:\n",
    "    fname_list.append(first_name.text)\n",
    "    \n",
    "class_list = []\n",
    "for player_class in player_classes:\n",
    "    class_list.append(player_class.text)\n"
   ]
  },
  {
   "cell_type": "code",
   "execution_count": 28,
   "id": "2054fd1c",
   "metadata": {},
   "outputs": [],
   "source": [
    "class_list = class_list[-23:]\n",
    "lname_list = lname_list[:-2]\n",
    "fname_list = fname_list[:-2]"
   ]
  },
  {
   "cell_type": "code",
   "execution_count": 29,
   "id": "c14e9d0d",
   "metadata": {},
   "outputs": [
    {
     "data": {
      "text/plain": [
       "So.    0.391304\n",
       "Fr.    0.347826\n",
       "Sr.    0.130435\n",
       "Jr.    0.130435\n",
       "Name: class, dtype: float64"
      ]
     },
     "execution_count": 29,
     "metadata": {},
     "output_type": "execute_result"
    }
   ],
   "source": [
    "isu_roster_20['last_name'] = lname_list\n",
    "isu_roster_20['first_name'] = fname_list\n",
    "isu_roster_20['class'] = class_list\n",
    "\n",
    "isu_roster_20['class'].value_counts(normalize=True)"
   ]
  },
  {
   "cell_type": "code",
   "execution_count": 31,
   "id": "424baa05",
   "metadata": {},
   "outputs": [],
   "source": [
    "isu_roster_21['returner'] = isu_roster_20['last_name'].isin(isu_roster_21['last_name'])"
   ]
  },
  {
   "cell_type": "code",
   "execution_count": 32,
   "id": "cfa3e999",
   "metadata": {},
   "outputs": [
    {
     "data": {
      "text/plain": [
       "True     20\n",
       "False     3\n",
       "Name: returner, dtype: int64"
      ]
     },
     "execution_count": 32,
     "metadata": {},
     "output_type": "execute_result"
    }
   ],
   "source": [
    "isu_roster_21['returner'].value_counts()"
   ]
  },
  {
   "cell_type": "code",
   "execution_count": 34,
   "id": "2a787ea3",
   "metadata": {},
   "outputs": [
    {
     "data": {
      "text/html": [
       "<div>\n",
       "<style scoped>\n",
       "    .dataframe tbody tr th:only-of-type {\n",
       "        vertical-align: middle;\n",
       "    }\n",
       "\n",
       "    .dataframe tbody tr th {\n",
       "        vertical-align: top;\n",
       "    }\n",
       "\n",
       "    .dataframe thead th {\n",
       "        text-align: right;\n",
       "    }\n",
       "</style>\n",
       "<table border=\"1\" class=\"dataframe\">\n",
       "  <thead>\n",
       "    <tr style=\"text-align: right;\">\n",
       "      <th></th>\n",
       "      <th>last_name</th>\n",
       "      <th>first_name</th>\n",
       "      <th>class</th>\n",
       "      <th>returner</th>\n",
       "    </tr>\n",
       "  </thead>\n",
       "  <tbody>\n",
       "    <tr>\n",
       "      <th>0</th>\n",
       "      <td>Hoffman</td>\n",
       "      <td>Tara</td>\n",
       "      <td>Jr.</td>\n",
       "      <td>True</td>\n",
       "    </tr>\n",
       "    <tr>\n",
       "      <th>1</th>\n",
       "      <td>Tesmond</td>\n",
       "      <td>Tara</td>\n",
       "      <td>Fr.</td>\n",
       "      <td>True</td>\n",
       "    </tr>\n",
       "    <tr>\n",
       "      <th>2</th>\n",
       "      <td>Alexander</td>\n",
       "      <td>Maddie</td>\n",
       "      <td>So.</td>\n",
       "      <td>True</td>\n",
       "    </tr>\n",
       "    <tr>\n",
       "      <th>3</th>\n",
       "      <td>Mackey</td>\n",
       "      <td>Alexa</td>\n",
       "      <td>Fr.</td>\n",
       "      <td>True</td>\n",
       "    </tr>\n",
       "    <tr>\n",
       "      <th>4</th>\n",
       "      <td>Yankey</td>\n",
       "      <td>Katie</td>\n",
       "      <td>So.</td>\n",
       "      <td>True</td>\n",
       "    </tr>\n",
       "    <tr>\n",
       "      <th>5</th>\n",
       "      <td>Lovell</td>\n",
       "      <td>Olivia</td>\n",
       "      <td>Fr.</td>\n",
       "      <td>True</td>\n",
       "    </tr>\n",
       "    <tr>\n",
       "      <th>6</th>\n",
       "      <td>Wahlberg</td>\n",
       "      <td>CeCe</td>\n",
       "      <td>Jr.</td>\n",
       "      <td>True</td>\n",
       "    </tr>\n",
       "    <tr>\n",
       "      <th>7</th>\n",
       "      <td>Hudnall</td>\n",
       "      <td>Carly</td>\n",
       "      <td>So.</td>\n",
       "      <td>False</td>\n",
       "    </tr>\n",
       "    <tr>\n",
       "      <th>8</th>\n",
       "      <td>Jensen</td>\n",
       "      <td>Carlie</td>\n",
       "      <td>So.</td>\n",
       "      <td>True</td>\n",
       "    </tr>\n",
       "    <tr>\n",
       "      <th>9</th>\n",
       "      <td>Helling</td>\n",
       "      <td>Maddie</td>\n",
       "      <td>Fr.</td>\n",
       "      <td>True</td>\n",
       "    </tr>\n",
       "    <tr>\n",
       "      <th>10</th>\n",
       "      <td>Kooker</td>\n",
       "      <td>Chloee</td>\n",
       "      <td>Jr.</td>\n",
       "      <td>True</td>\n",
       "    </tr>\n",
       "    <tr>\n",
       "      <th>11</th>\n",
       "      <td>Henderson</td>\n",
       "      <td>Nora</td>\n",
       "      <td>Fr.</td>\n",
       "      <td>True</td>\n",
       "    </tr>\n",
       "    <tr>\n",
       "      <th>12</th>\n",
       "      <td>Hanrahan</td>\n",
       "      <td>Serra</td>\n",
       "      <td>Jr.</td>\n",
       "      <td>True</td>\n",
       "    </tr>\n",
       "    <tr>\n",
       "      <th>13</th>\n",
       "      <td>Hunter</td>\n",
       "      <td>Isabella</td>\n",
       "      <td>Jr.</td>\n",
       "      <td>True</td>\n",
       "    </tr>\n",
       "    <tr>\n",
       "      <th>14</th>\n",
       "      <td>Stephens</td>\n",
       "      <td>Audrey</td>\n",
       "      <td>So.</td>\n",
       "      <td>True</td>\n",
       "    </tr>\n",
       "    <tr>\n",
       "      <th>15</th>\n",
       "      <td>Pettigrew</td>\n",
       "      <td>Kloe</td>\n",
       "      <td>So.</td>\n",
       "      <td>True</td>\n",
       "    </tr>\n",
       "    <tr>\n",
       "      <th>16</th>\n",
       "      <td>Tesny</td>\n",
       "      <td>Chloe</td>\n",
       "      <td>Fr.</td>\n",
       "      <td>True</td>\n",
       "    </tr>\n",
       "    <tr>\n",
       "      <th>17</th>\n",
       "      <td>Kooken</td>\n",
       "      <td>Courtney</td>\n",
       "      <td>Jr.</td>\n",
       "      <td>False</td>\n",
       "    </tr>\n",
       "    <tr>\n",
       "      <th>18</th>\n",
       "      <td>Holcombe</td>\n",
       "      <td>Anna</td>\n",
       "      <td>Jr.</td>\n",
       "      <td>True</td>\n",
       "    </tr>\n",
       "    <tr>\n",
       "      <th>19</th>\n",
       "      <td>Thompson</td>\n",
       "      <td>Sasha</td>\n",
       "      <td>So.</td>\n",
       "      <td>True</td>\n",
       "    </tr>\n",
       "    <tr>\n",
       "      <th>20</th>\n",
       "      <td>Humphrey</td>\n",
       "      <td>Liz</td>\n",
       "      <td>Jr.</td>\n",
       "      <td>True</td>\n",
       "    </tr>\n",
       "    <tr>\n",
       "      <th>21</th>\n",
       "      <td>Mullen</td>\n",
       "      <td>Caitlin</td>\n",
       "      <td>Fr.</td>\n",
       "      <td>True</td>\n",
       "    </tr>\n",
       "    <tr>\n",
       "      <th>22</th>\n",
       "      <td>Kent</td>\n",
       "      <td>Mackenzie</td>\n",
       "      <td>Fr.</td>\n",
       "      <td>False</td>\n",
       "    </tr>\n",
       "    <tr>\n",
       "      <th>23</th>\n",
       "      <td>Emser</td>\n",
       "      <td>Alise</td>\n",
       "      <td>Sr.</td>\n",
       "      <td>NaN</td>\n",
       "    </tr>\n",
       "    <tr>\n",
       "      <th>24</th>\n",
       "      <td>Harbison</td>\n",
       "      <td>Emily</td>\n",
       "      <td>So.</td>\n",
       "      <td>NaN</td>\n",
       "    </tr>\n",
       "    <tr>\n",
       "      <th>25</th>\n",
       "      <td>Ewing</td>\n",
       "      <td>Sidney</td>\n",
       "      <td>Sr.</td>\n",
       "      <td>NaN</td>\n",
       "    </tr>\n",
       "    <tr>\n",
       "      <th>26</th>\n",
       "      <td>Margheim</td>\n",
       "      <td>Jensen</td>\n",
       "      <td>5th</td>\n",
       "      <td>NaN</td>\n",
       "    </tr>\n",
       "    <tr>\n",
       "      <th>27</th>\n",
       "      <td>Sweda</td>\n",
       "      <td>Erin</td>\n",
       "      <td>Jr.</td>\n",
       "      <td>NaN</td>\n",
       "    </tr>\n",
       "  </tbody>\n",
       "</table>\n",
       "</div>"
      ],
      "text/plain": [
       "    last_name first_name class returner\n",
       "0     Hoffman       Tara   Jr.     True\n",
       "1     Tesmond       Tara   Fr.     True\n",
       "2   Alexander     Maddie   So.     True\n",
       "3      Mackey      Alexa   Fr.     True\n",
       "4      Yankey      Katie   So.     True\n",
       "5      Lovell     Olivia   Fr.     True\n",
       "6    Wahlberg       CeCe   Jr.     True\n",
       "7     Hudnall      Carly   So.    False\n",
       "8      Jensen     Carlie   So.     True\n",
       "9     Helling     Maddie   Fr.     True\n",
       "10     Kooker    Chloee    Jr.     True\n",
       "11  Henderson       Nora   Fr.     True\n",
       "12   Hanrahan      Serra   Jr.     True\n",
       "13     Hunter   Isabella   Jr.     True\n",
       "14   Stephens    Audrey    So.     True\n",
       "15  Pettigrew      Kloe    So.     True\n",
       "16      Tesny      Chloe   Fr.     True\n",
       "17     Kooken   Courtney   Jr.    False\n",
       "18   Holcombe       Anna   Jr.     True\n",
       "19   Thompson      Sasha   So.     True\n",
       "20   Humphrey        Liz   Jr.     True\n",
       "21     Mullen    Caitlin   Fr.     True\n",
       "22       Kent  Mackenzie   Fr.    False\n",
       "23      Emser     Alise    Sr.      NaN\n",
       "24   Harbison     Emily    So.      NaN\n",
       "25      Ewing     Sidney   Sr.      NaN\n",
       "26  Margheim     Jensen    5th      NaN\n",
       "27      Sweda       Erin   Jr.      NaN"
      ]
     },
     "execution_count": 34,
     "metadata": {},
     "output_type": "execute_result"
    }
   ],
   "source": [
    "isu_roster_21"
   ]
  },
  {
   "cell_type": "markdown",
   "id": "30bf93ef",
   "metadata": {},
   "source": [
    "## Roster Search"
   ]
  },
  {
   "cell_type": "markdown",
   "id": "7a89fb63",
   "metadata": {},
   "source": [
    "#### Team site stems\n",
    "Illinois: fightingillini.com, 5 coaches, 33 players\\\n",
    "Nebraska: huskers.com, 8 coaches, 35 players \\\n",
    "Indiana St: gosycamores.com, 3 coaches, 28 players\\\n",
    "Mizzou: mutigers.com, 6 coaches, 29 players"
   ]
  },
  {
   "cell_type": "code",
   "execution_count": 171,
   "id": "ef156387",
   "metadata": {},
   "outputs": [],
   "source": [
    "url = 'https://mutigers.com/sports/womens-soccer/roster/2021'\n",
    "\n",
    "page = urlopen(url)\n",
    "html = page.read().decode('utf-8')\n",
    "soup = BeautifulSoup(html, \"html.parser\")\n",
    "\n",
    "roster = pd.DataFrame()\n",
    "\n",
    "last_names = soup.find_all('span',{'class':\"sidearm-roster-player-last-name\"})\n",
    "first_names = soup.find_all('span',{'class':\"sidearm-roster-player-first-name\"})\n",
    "player_classes = soup.find_all('span',{'class':\"sidearm-roster-player-academic-year\"})\n",
    "\n",
    "lname_list = []\n",
    "for last_name in last_names:\n",
    "    lname_list.append(last_name.text)\n",
    "    \n",
    "fname_list = []\n",
    "for first_name in first_names:\n",
    "    fname_list.append(first_name.text)\n",
    "    \n",
    "class_list = []\n",
    "for player_class in player_classes:\n",
    "    class_list.append(player_class.text)\n"
   ]
  },
  {
   "cell_type": "code",
   "execution_count": 172,
   "id": "5fd2f8ce",
   "metadata": {},
   "outputs": [],
   "source": [
    "class_list = class_list[-29:]\n",
    "lname_list = lname_list[:-6]\n",
    "fname_list = fname_list[:-6]"
   ]
  },
  {
   "cell_type": "code",
   "execution_count": 173,
   "id": "db0e5275",
   "metadata": {},
   "outputs": [
    {
     "data": {
      "text/plain": [
       "Fr.      0.275862\n",
       "Jr.      0.241379\n",
       "So.      0.206897\n",
       "Gr.      0.103448\n",
       "Sr.      0.103448\n",
       "R-So.    0.068966\n",
       "Name: class, dtype: float64"
      ]
     },
     "execution_count": 173,
     "metadata": {},
     "output_type": "execute_result"
    }
   ],
   "source": [
    "roster['last_name'] = lname_list\n",
    "roster['first_name'] = fname_list\n",
    "roster['class'] = class_list\n",
    "\n",
    "roster['class'].value_counts(normalize=True)"
   ]
  },
  {
   "cell_type": "code",
   "execution_count": 174,
   "id": "d4abf3f5",
   "metadata": {
    "scrolled": false
   },
   "outputs": [
    {
     "data": {
      "text/plain": [
       "Fr.      8\n",
       "Jr.      7\n",
       "So.      6\n",
       "Gr.      3\n",
       "Sr.      3\n",
       "R-So.    2\n",
       "Name: class, dtype: int64"
      ]
     },
     "execution_count": 174,
     "metadata": {},
     "output_type": "execute_result"
    }
   ],
   "source": [
    "roster['class'].value_counts()"
   ]
  },
  {
   "cell_type": "code",
   "execution_count": 175,
   "id": "ac24f706",
   "metadata": {},
   "outputs": [],
   "source": [
    "miz_roster = roster"
   ]
  },
  {
   "cell_type": "markdown",
   "id": "0e2a927d",
   "metadata": {},
   "source": [
    "## Search Illinois player"
   ]
  },
  {
   "cell_type": "code",
   "execution_count": 142,
   "id": "2d06b067",
   "metadata": {},
   "outputs": [
    {
     "name": "stdout",
     "output_type": "stream",
     "text": [
      "Search player: Jones\n"
     ]
    },
    {
     "data": {
      "text/plain": [
       "23    Fr.\n",
       "Name: class, dtype: object"
      ]
     },
     "execution_count": 142,
     "metadata": {},
     "output_type": "execute_result"
    }
   ],
   "source": [
    "ill_player = str(input(\"Search player: \"))\n",
    "illinois_roster.loc[illinois_roster['last_name'] == ill_player, 'class']"
   ]
  },
  {
   "cell_type": "markdown",
   "id": "634ba1e0",
   "metadata": {},
   "source": [
    "## Search Nebraska player"
   ]
  },
  {
   "cell_type": "code",
   "execution_count": 146,
   "id": "70cfa35c",
   "metadata": {},
   "outputs": [
    {
     "name": "stdout",
     "output_type": "stream",
     "text": [
      "Search player: Weber\n"
     ]
    },
    {
     "data": {
      "text/plain": [
       "29    Fr.\n",
       "Name: class, dtype: object"
      ]
     },
     "execution_count": 146,
     "metadata": {},
     "output_type": "execute_result"
    }
   ],
   "source": [
    "neb_player = str(input(\"Search player: \"))\n",
    "nebraska_roster.loc[nebraska_roster['last_name'] == neb_player, 'class']"
   ]
  },
  {
   "cell_type": "markdown",
   "id": "909d86f2",
   "metadata": {},
   "source": [
    "### Corner Kicks"
   ]
  },
  {
   "cell_type": "code",
   "execution_count": 153,
   "id": "d331e0bf",
   "metadata": {},
   "outputs": [],
   "source": [
    "goal_box_list = [2,1,2,2,2,2,2,1,1,1]\n",
    "penalty_box_list = [4,4,4,4,4,5,4,5,4,5]\n",
    "result_list = ['clearance','goal kick','clearance', 'clearance','rebound, save','clearance','throw in','rebound, miss','rebound, clearance','rebound, save']"
   ]
  },
  {
   "cell_type": "code",
   "execution_count": 154,
   "id": "18d84168",
   "metadata": {},
   "outputs": [],
   "source": [
    "corner_kicks = pd.DataFrame()"
   ]
  },
  {
   "cell_type": "code",
   "execution_count": 155,
   "id": "2f12ea44",
   "metadata": {},
   "outputs": [],
   "source": [
    "corner_kicks['goal_box'] = goal_box_list\n",
    "corner_kicks['penalty_box'] = penalty_box_list\n",
    "corner_kicks['total'] = corner_kicks['goal_box'] + corner_kicks['penalty_box']\n",
    "corner_kicks['result'] = result_list"
   ]
  },
  {
   "cell_type": "code",
   "execution_count": 156,
   "id": "7899a59f",
   "metadata": {},
   "outputs": [
    {
     "data": {
      "text/html": [
       "<div>\n",
       "<style scoped>\n",
       "    .dataframe tbody tr th:only-of-type {\n",
       "        vertical-align: middle;\n",
       "    }\n",
       "\n",
       "    .dataframe tbody tr th {\n",
       "        vertical-align: top;\n",
       "    }\n",
       "\n",
       "    .dataframe thead th {\n",
       "        text-align: right;\n",
       "    }\n",
       "</style>\n",
       "<table border=\"1\" class=\"dataframe\">\n",
       "  <thead>\n",
       "    <tr style=\"text-align: right;\">\n",
       "      <th></th>\n",
       "      <th>goal_box</th>\n",
       "      <th>penalty_box</th>\n",
       "      <th>total</th>\n",
       "      <th>result</th>\n",
       "    </tr>\n",
       "  </thead>\n",
       "  <tbody>\n",
       "    <tr>\n",
       "      <th>0</th>\n",
       "      <td>2</td>\n",
       "      <td>4</td>\n",
       "      <td>6</td>\n",
       "      <td>clearance</td>\n",
       "    </tr>\n",
       "    <tr>\n",
       "      <th>1</th>\n",
       "      <td>1</td>\n",
       "      <td>4</td>\n",
       "      <td>5</td>\n",
       "      <td>goal kick</td>\n",
       "    </tr>\n",
       "    <tr>\n",
       "      <th>2</th>\n",
       "      <td>2</td>\n",
       "      <td>4</td>\n",
       "      <td>6</td>\n",
       "      <td>clearance</td>\n",
       "    </tr>\n",
       "    <tr>\n",
       "      <th>3</th>\n",
       "      <td>2</td>\n",
       "      <td>4</td>\n",
       "      <td>6</td>\n",
       "      <td>clearance</td>\n",
       "    </tr>\n",
       "    <tr>\n",
       "      <th>4</th>\n",
       "      <td>2</td>\n",
       "      <td>4</td>\n",
       "      <td>6</td>\n",
       "      <td>rebound, save</td>\n",
       "    </tr>\n",
       "    <tr>\n",
       "      <th>5</th>\n",
       "      <td>2</td>\n",
       "      <td>5</td>\n",
       "      <td>7</td>\n",
       "      <td>clearance</td>\n",
       "    </tr>\n",
       "    <tr>\n",
       "      <th>6</th>\n",
       "      <td>2</td>\n",
       "      <td>4</td>\n",
       "      <td>6</td>\n",
       "      <td>throw in</td>\n",
       "    </tr>\n",
       "    <tr>\n",
       "      <th>7</th>\n",
       "      <td>1</td>\n",
       "      <td>5</td>\n",
       "      <td>6</td>\n",
       "      <td>rebound, miss</td>\n",
       "    </tr>\n",
       "    <tr>\n",
       "      <th>8</th>\n",
       "      <td>1</td>\n",
       "      <td>4</td>\n",
       "      <td>5</td>\n",
       "      <td>rebound, clearance</td>\n",
       "    </tr>\n",
       "    <tr>\n",
       "      <th>9</th>\n",
       "      <td>1</td>\n",
       "      <td>5</td>\n",
       "      <td>6</td>\n",
       "      <td>rebound, save</td>\n",
       "    </tr>\n",
       "  </tbody>\n",
       "</table>\n",
       "</div>"
      ],
      "text/plain": [
       "   goal_box  penalty_box  total              result\n",
       "0         2            4      6           clearance\n",
       "1         1            4      5           goal kick\n",
       "2         2            4      6           clearance\n",
       "3         2            4      6           clearance\n",
       "4         2            4      6       rebound, save\n",
       "5         2            5      7           clearance\n",
       "6         2            4      6            throw in\n",
       "7         1            5      6       rebound, miss\n",
       "8         1            4      5  rebound, clearance\n",
       "9         1            5      6       rebound, save"
      ]
     },
     "execution_count": 156,
     "metadata": {},
     "output_type": "execute_result"
    }
   ],
   "source": [
    "corner_kicks"
   ]
  },
  {
   "cell_type": "code",
   "execution_count": 157,
   "id": "80cb37b9",
   "metadata": {},
   "outputs": [
    {
     "data": {
      "text/plain": [
       "clearance             4\n",
       "rebound, save         2\n",
       "rebound, miss         1\n",
       "rebound, clearance    1\n",
       "throw in              1\n",
       "goal kick             1\n",
       "Name: result, dtype: int64"
      ]
     },
     "execution_count": 157,
     "metadata": {},
     "output_type": "execute_result"
    }
   ],
   "source": [
    "corner_kicks['result'].value_counts()"
   ]
  },
  {
   "cell_type": "markdown",
   "id": "76536639",
   "metadata": {},
   "source": [
    "## Weighted Roster experience"
   ]
  },
  {
   "cell_type": "code",
   "execution_count": null,
   "id": "a620d0ec",
   "metadata": {},
   "outputs": [],
   "source": []
  },
  {
   "cell_type": "code",
   "execution_count": 268,
   "id": "42acea0f",
   "metadata": {
    "scrolled": true
   },
   "outputs": [
    {
     "data": {
      "text/plain": [
       "Fr.    11\n",
       "Sr.    11\n",
       "So.     9\n",
       "Jr.     4\n",
       "Name: class, dtype: int64"
      ]
     },
     "execution_count": 268,
     "metadata": {},
     "output_type": "execute_result"
    }
   ],
   "source": [
    "nebraska_roster['class'].value_counts()"
   ]
  },
  {
   "cell_type": "code",
   "execution_count": 269,
   "id": "5aa70f0b",
   "metadata": {},
   "outputs": [],
   "source": [
    "nebraska_roster_breakdown = nebraska_roster['class'].value_counts(normalize=True)"
   ]
  },
  {
   "cell_type": "code",
   "execution_count": 270,
   "id": "1b83b43b",
   "metadata": {
    "scrolled": true
   },
   "outputs": [],
   "source": [
    "nebraska_roster_breakdown = nebraska_roster_breakdown.tolist()"
   ]
  },
  {
   "cell_type": "code",
   "execution_count": 271,
   "id": "dd164162",
   "metadata": {},
   "outputs": [],
   "source": [
    "experience_list = [0,3,1,2]"
   ]
  },
  {
   "cell_type": "code",
   "execution_count": 272,
   "id": "aa01bb4f",
   "metadata": {},
   "outputs": [
    {
     "data": {
      "text/plain": [
       "[0.3142857142857143,\n",
       " 0.3142857142857143,\n",
       " 0.2571428571428571,\n",
       " 0.11428571428571428]"
      ]
     },
     "execution_count": 272,
     "metadata": {},
     "output_type": "execute_result"
    }
   ],
   "source": [
    "nebraska_roster_breakdown"
   ]
  },
  {
   "cell_type": "code",
   "execution_count": 273,
   "id": "067cb678",
   "metadata": {},
   "outputs": [
    {
     "name": "stdout",
     "output_type": "stream",
     "text": [
      "0.0  (+ 0.0 )\n",
      "0.9428571428571428  (+ 0.9428571428571428 )\n",
      "1.2  (+ 0.2571428571428571 )\n",
      "1.4285714285714286  (+ 0.22857142857142856 )\n"
     ]
    }
   ],
   "source": [
    "experience_values = []\n",
    "experience = 0\n",
    "for num1, num2 in zip(nebraska_roster_breakdown,experience_list):\n",
    "    experience_weight = num1 * num2\n",
    "    experience_values.append(experience_weight)\n",
    "    experience = experience + (experience_weight)\n",
    "    print(experience, \" (+\",experience_weight,\")\")"
   ]
  },
  {
   "cell_type": "code",
   "execution_count": 263,
   "id": "6ea8976c",
   "metadata": {},
   "outputs": [
    {
     "data": {
      "text/plain": [
       "0.2727272727272727"
      ]
     },
     "execution_count": 263,
     "metadata": {},
     "output_type": "execute_result"
    }
   ],
   "source": [
    "9/33"
   ]
  },
  {
   "cell_type": "code",
   "execution_count": 274,
   "id": "9254447d",
   "metadata": {},
   "outputs": [],
   "source": [
    "neb_exp = experience"
   ]
  },
  {
   "cell_type": "markdown",
   "id": "0b208560",
   "metadata": {},
   "source": [
    "### Average years of team experience"
   ]
  },
  {
   "cell_type": "code",
   "execution_count": 275,
   "id": "c83a14b4",
   "metadata": {},
   "outputs": [
    {
     "data": {
      "text/plain": [
       "1.482758620689655"
      ]
     },
     "execution_count": 275,
     "metadata": {},
     "output_type": "execute_result"
    }
   ],
   "source": [
    "miz_exp"
   ]
  },
  {
   "cell_type": "code",
   "execution_count": 276,
   "id": "095513eb",
   "metadata": {},
   "outputs": [
    {
     "data": {
      "text/plain": [
       "1.4242424242424243"
      ]
     },
     "execution_count": 276,
     "metadata": {},
     "output_type": "execute_result"
    }
   ],
   "source": [
    "ill_exp"
   ]
  },
  {
   "cell_type": "code",
   "execution_count": 277,
   "id": "cec95851",
   "metadata": {},
   "outputs": [
    {
     "data": {
      "text/plain": [
       "1.4285714285714286"
      ]
     },
     "execution_count": 277,
     "metadata": {},
     "output_type": "execute_result"
    }
   ],
   "source": [
    "neb_exp"
   ]
  },
  {
   "cell_type": "code",
   "execution_count": 278,
   "id": "cc8421ba",
   "metadata": {},
   "outputs": [
    {
     "data": {
      "text/plain": [
       "1.2857142857142856"
      ]
     },
     "execution_count": 278,
     "metadata": {},
     "output_type": "execute_result"
    }
   ],
   "source": [
    "isu_exp"
   ]
  },
  {
   "cell_type": "markdown",
   "id": "cc762678",
   "metadata": {},
   "source": [
    "## Stefanie Golan Avg Years Team Experience"
   ]
  },
  {
   "cell_type": "code",
   "execution_count": 340,
   "id": "47d3594a",
   "metadata": {},
   "outputs": [],
   "source": [
    "url = 'https://gophersports.com/sports/womens-soccer/roster/2012'\n",
    "\n",
    "page = urlopen(url)\n",
    "html = page.read().decode('utf-8')\n",
    "soup = BeautifulSoup(html, \"html.parser\")\n",
    "\n",
    "roster = pd.DataFrame()\n",
    "\n",
    "last_names = soup.find_all('span',{'class':\"sidearm-roster-player-last-name\"})\n",
    "first_names = soup.find_all('span',{'class':\"sidearm-roster-player-first-name\"})\n",
    "player_classes = soup.find_all('span',{'class':\"sidearm-roster-player-academic-year\"})\n",
    "\n",
    "lname_list = []\n",
    "for last_name in last_names:\n",
    "    lname_list.append(last_name.text)\n",
    "    \n",
    "fname_list = []\n",
    "for first_name in first_names:\n",
    "    fname_list.append(first_name.text)\n",
    "    \n",
    "class_list = []\n",
    "for player_class in player_classes:\n",
    "    class_list.append(player_class.text)\n"
   ]
  },
  {
   "cell_type": "code",
   "execution_count": 341,
   "id": "d9095dac",
   "metadata": {},
   "outputs": [
    {
     "data": {
      "text/plain": [
       "20"
      ]
     },
     "execution_count": 341,
     "metadata": {},
     "output_type": "execute_result"
    }
   ],
   "source": [
    "len(fname_list)"
   ]
  },
  {
   "cell_type": "code",
   "execution_count": 342,
   "id": "a9066568",
   "metadata": {},
   "outputs": [],
   "source": [
    "class_list = class_list[-20:]\n",
    "lname_list = lname_list[:]\n",
    "fname_list = fname_list[:]"
   ]
  },
  {
   "cell_type": "code",
   "execution_count": 343,
   "id": "487170b0",
   "metadata": {},
   "outputs": [],
   "source": [
    "roster['last_name'] = lname_list\n",
    "roster['first_name'] = fname_list\n",
    "roster['class'] = class_list\n",
    "\n",
    "umn_roster_2012 = roster"
   ]
  },
  {
   "cell_type": "code",
   "execution_count": 348,
   "id": "d6e58604",
   "metadata": {},
   "outputs": [
    {
     "name": "stdout",
     "output_type": "stream",
     "text": [
      "umn_roster_2012\n",
      "umn_roster_2013\n",
      "umn_roster_2014\n",
      "umn_roster_2015\n",
      "umn_roster_2016\n",
      "umn_roster_2017\n",
      "umn_roster_2018\n",
      "umn_roster_2019\n",
      "umn_roster_2020\n"
     ]
    }
   ],
   "source": [
    "for year in range(2012,2021):\n",
    "    roster_year = 'umn_roster_'+str(year)\n",
    "    print(roster_year)"
   ]
  },
  {
   "cell_type": "code",
   "execution_count": 349,
   "id": "7679b992",
   "metadata": {},
   "outputs": [],
   "source": [
    "rosters = [umn_roster_2012,\n",
    "umn_roster_2013,\n",
    "umn_roster_2014,\n",
    "umn_roster_2015,\n",
    "umn_roster_2016,\n",
    "umn_roster_2017,\n",
    "umn_roster_2018,\n",
    "umn_roster_2019,\n",
    "umn_roster_2020]"
   ]
  },
  {
   "cell_type": "code",
   "execution_count": 350,
   "id": "a5816a41",
   "metadata": {},
   "outputs": [
    {
     "name": "stdout",
     "output_type": "stream",
     "text": [
      "    last_name first_name  class\n",
      "0     Knutson    Kristen    Fr.\n",
      "1    Parkhill        Cat  R-Sr.\n",
      "2       Baier     Nicole    Sr.\n",
      "3         Uhl     Taylor    So.\n",
      "4       Price    Brianne    So.\n",
      "5   Helverson      Haley    Fr.\n",
      "6      Thyken      Katie    So.\n",
      "7    Phillips      Allie    Sr.\n",
      "8     Arvesen      Ellie    Fr.\n",
      "9      Dykema       Elle    Fr.\n",
      "10      Price    Marissa    Sr.\n",
      "11     Brandt      Steph  R-Jr.\n",
      "12    Bagnall     Olivia    Sr.\n",
      "13   Strahota     Tamara  R-Sr.\n",
      "14    Roberts      Becca    So.\n",
      "15     Reinke      Allie    Fr.\n",
      "16      Bauer     Lauren    Jr.\n",
      "17      Misel  MacKenzie    Jr.\n",
      "18    Wodnick     Taylor    So.\n",
      "19      Voigt     Jackie    Sr.\n",
      "     last_name first_name  class\n",
      "0      Knutson    Kristen    So.\n",
      "1        Hobbs      Tarah    Fr.\n",
      "2    Dougherty       Mara    Fr.\n",
      "3     Kolander     Simone    Fr.\n",
      "4      Schultz     Olivia    Jr.\n",
      "5    Helverson      Haley    So.\n",
      "6       Thyken      Katie    Jr.\n",
      "7     Giddings      Allie    So.\n",
      "8      Arvesen      Ellie    So.\n",
      "9        Booth       Erin    Fr.\n",
      "10      Dykema       Elle    So.\n",
      "11     Stiever      Josee    Fr.\n",
      "12      Brandt      Steph  R-Sr.\n",
      "13     Larrick        Jen    Jr.\n",
      "14  Stainbrook     Taylor  R-So.\n",
      "15        Beal    Rashida    Fr.\n",
      "16       Pafko     Ashley    Fr.\n",
      "17     Roberts      Becca    Jr.\n",
      "18      Reinke      Allie    So.\n",
      "19       Bauer     Lauren    Sr.\n",
      "20       Misel  MacKenzie    Sr.\n",
      "21    Johnston    Vanessa    Fr.\n",
      "22     Wodnick     Taylor    Jr.\n",
      "     last_name first_name  class\n",
      "0        Lilja     Kirsti    Fr.\n",
      "1        Hobbs      Tarah    So.\n",
      "2    Dougherty       Mara    So.\n",
      "3     Kolander     Simone    So.\n",
      "4       McGahn     Kellie    Fr.\n",
      "5      Schultz     Olivia    Sr.\n",
      "6    Helverson      Haley    Jr.\n",
      "7       Thyken      Katie    Sr.\n",
      "8      Squires     Sydney    Fr.\n",
      "9      Arvesen      Ellie    Jr.\n",
      "10       Booth       Erin    So.\n",
      "11     Stiever      Josee    So.\n",
      "12        Holm     Hannah    Fr.\n",
      "13  Stainbrook     Taylor  R-Jr.\n",
      "14     Larrick        Jen    Jr.\n",
      "15     Gaffney     Maddie    Fr.\n",
      "16   McCloskey     Rachel    Fr.\n",
      "17        Beal    Rashida    So.\n",
      "18       Pafko     Ashley    So.\n",
      "19     Roberts      Becca    Sr.\n",
      "20      Reinke      Allie    Jr.\n",
      "21     Burnett       Tori    Fr.\n",
      "22      Gernes   Julianna    Fr.\n",
      "23     Blahnik     Alyssa    Fr.\n",
      "24      Koenig      Megan    Fr.\n",
      "25     Wodnick     Taylor    Sr.\n",
      "         last_name first_name  class\n",
      "0            Lilja     Kirsti    Sr.\n",
      "1            Hobbs      Tarah    Jr.\n",
      "2        Dougherty       Mara    Jr.\n",
      "3         Kolander     Simone    Jr.\n",
      "4           McGahn     Kellie    So.\n",
      "5         Peterson      Emily    Fr.\n",
      "6        Helverson      Haley    Sr.\n",
      "7          Fiedler      Molly    Fr.\n",
      "8          Squires     Sydney    So.\n",
      "9          Arvesen      Ellie    Sr.\n",
      "10          Castro     Maddie    Fr.\n",
      "11          Heslin      Emily    Fr.\n",
      "12         Stiever      Josee    Jr.\n",
      "13  Fridriksdottir     Hugrun    Fr.\n",
      "14      Stainbrook     Taylor  R-Sr.\n",
      "15         Larrick        Jen    Sr.\n",
      "16         Gaffney     Maddie    So.\n",
      "17       McCloskey     Rachel    So.\n",
      "18            Beal    Rashida    Jr.\n",
      "19           Pafko     Ashley    Jr.\n",
      "20          Bockin      April    Fr.\n",
      "21          Reinke      Allie    Sr.\n",
      "22         Burnett       Tori    So.\n",
      "23          Gernes   Julianna    So.\n",
      "24          Koenig      Megan    So.\n",
      "25           Sharp     Kailee    Fr.\n",
      "         last_name first_name class\n",
      "0            Hobbs      Tarah   Sr.\n",
      "1        Dougherty       Mara   Sr.\n",
      "2         Kolander     Simone   Sr.\n",
      "3           McGahn     Kellie   Jr.\n",
      "4         Peterson      Emily   So.\n",
      "5       McKendrick         TJ   Fr.\n",
      "6          Fiedler      Molly   So.\n",
      "7          Squires     Sydney   Jr.\n",
      "8         Billings  Catherine   Fr.\n",
      "9           Castro     Maddie   So.\n",
      "10          Heslin      Emily   So.\n",
      "11         Stiever      Josee   Sr.\n",
      "12  Fridriksdottir     Hugrun   So.\n",
      "13        Albrecht      Nikki   Fr.\n",
      "14            Fast     Cherry   Fr.\n",
      "15         Gaffney     Maddie   Jr.\n",
      "16        Rajacich       Maya   Fr.\n",
      "17            Beal    Rashida   Sr.\n",
      "18           Pafko     Ashley   Sr.\n",
      "19          Bockin      April   So.\n",
      "20          Mennes      Haley   Fr.\n",
      "21         Burnett       Tori   Jr.\n",
      "22          Gernes   Julianna   Jr.\n",
      "23     Windingstad     Marisa   Fr.\n",
      "24          Koenig      Megan   Jr.\n",
      "25           Sharp     Kailee   So.\n",
      "      last_name first_name class\n",
      "0       Nielsen     Maddie   Fr.\n",
      "1       Langdok   Makenzie   Fr.\n",
      "2        McGahn     Kellie   Sr.\n",
      "3      Peterson      Emily   Jr.\n",
      "4    McKendrick         TJ   So.\n",
      "5       Fiedler      Molly   Jr.\n",
      "6       Squires     Sydney   Sr.\n",
      "7      Billings  Catherine   So.\n",
      "8        Castro     Maddie   Jr.\n",
      "9        Heslin      Emily   Jr.\n",
      "10    Del Moral    Arianna   Fr.\n",
      "11     Albrecht      Nikki   So.\n",
      "12      Gaffney     Maddie   Sr.\n",
      "13    Nummerdor     Celina   Fr.\n",
      "14        Kuehn     Athena   Fr.\n",
      "15       Bockin      April   Jr.\n",
      "16       Mennes      Haley   So.\n",
      "17      Burnett       Tori   Sr.\n",
      "18       Gernes   Julianna   Sr.\n",
      "19  Windingstad     Marisa   So.\n",
      "20       Koenig      Megan   Sr.\n",
      "21  Hartkemeyer      Haley   So.\n",
      "      last_name first_name class\n",
      "0        Aguado        Ana   Fr.\n",
      "1       Nielsen     Maddie   So.\n",
      "2       Langdok   Makenzie   So.\n",
      "3         Stekr    Delaney   Fr.\n",
      "4      Peterson      Emily   Sr.\n",
      "5    McKendrick         TJ   Jr.\n",
      "6       Fiedler      Molly   Sr.\n",
      "7          Ward   Patricia   Fr.\n",
      "8      Billings  Catherine   Jr.\n",
      "9        Castro     Maddie   Sr.\n",
      "10       Heslin      Emily   Sr.\n",
      "11    Del Moral    Arianna   So.\n",
      "12     Albrecht      Nikki   Jr.\n",
      "13      Buisman    McKenna   Fr.\n",
      "14         Gray      Megan   Fr.\n",
      "15    Nummerdor     Celina   So.\n",
      "16        Kuehn     Athena   So.\n",
      "17       Bockin      April   Sr.\n",
      "18       Mennes      Haley   Jr.\n",
      "19     Dressely      Alana   Fr.\n",
      "20      Bunnell      Emily   Jr.\n",
      "21  Windingstad     Marisa   Jr.\n",
      "22  Hartkemeyer      Haley   Jr.\n",
      "      last_name first_name class\n",
      "0        Aguado        Ana   So.\n",
      "1       Nielsen     Maddie   Jr.\n",
      "2       Langdok   Makenzie   Jr.\n",
      "3         Stekr    Delaney   So.\n",
      "4       Roberts    Lauren    Fr.\n",
      "5    McKendrick         TJ   Sr.\n",
      "6          Ward   Patricia   So.\n",
      "7      Billings  Catherine   Sr.\n",
      "8         Duong     Katie    Fr.\n",
      "9     Del Moral    Arianna   Jr.\n",
      "10       Inniss     Keziah   Fr.\n",
      "11     Albrecht      Nikki   Sr.\n",
      "12        Bruer        Eva   Fr.\n",
      "13      Buisman    McKenna   So.\n",
      "14         Gray      Megan   So.\n",
      "15    Nummerdor     Celina   Jr.\n",
      "16        Kuehn     Athena   Jr.\n",
      "17      Elliott      Paige   Fr.\n",
      "18     Dressely      Alana   So.\n",
      "19  Windingstad     Marisa   Sr.\n",
      "20  Hartkemeyer      Haley   Sr.\n",
      "21     Plaschko     Megan    Fr.\n",
      "22       Harper     Sadie    Fr.\n",
      "23        Koker      Katie   So.\n",
      "    last_name first_name class\n",
      "0      Aguado        Ana   Jr.\n",
      "1     Nielsen     Maddie   Sr.\n",
      "2     Langdok   Makenzie   Sr.\n",
      "3       Stekr    Delaney   Jr.\n",
      "4       Baker     Maddie   Fr.\n",
      "5        Ward   Patricia   Jr.\n",
      "6       Boman     Sophia   Fr.\n",
      "7       Duong     Katie    So.\n",
      "8   Del Moral    Arianna   Sr.\n",
      "9      Inniss     Keziah   So.\n",
      "10   Frandsen        Abi   Fr.\n",
      "11      Bruer        Eva   So.\n",
      "12    Buisman    McKenna   Jr.\n",
      "13       Gray      Megan   Jr.\n",
      "14  Nummerdor     Celina   Sr.\n",
      "15      Kuehn     Athena   Sr.\n",
      "16    Elliott      Paige   So.\n",
      "17   Dressely      Alana   Jr.\n",
      "18       Wood      Josie   Fr.\n",
      "19   Plaschko     Megan    So.\n",
      "20     Harper     Sadie    So.\n",
      "21      Brown       Izzy   So.\n",
      "22      Koker      Katie   Jr.\n",
      "23    Donovan     Lauren   Fr.\n"
     ]
    }
   ],
   "source": [
    "for roster in rosters:\n",
    "    print(roster)"
   ]
  },
  {
   "cell_type": "code",
   "execution_count": null,
   "id": "80730e03",
   "metadata": {},
   "outputs": [],
   "source": []
  }
 ],
 "metadata": {
  "kernelspec": {
   "display_name": "Python 3",
   "language": "python",
   "name": "python3"
  },
  "language_info": {
   "codemirror_mode": {
    "name": "ipython",
    "version": 3
   },
   "file_extension": ".py",
   "mimetype": "text/x-python",
   "name": "python",
   "nbconvert_exporter": "python",
   "pygments_lexer": "ipython3",
   "version": "3.8.8"
  }
 },
 "nbformat": 4,
 "nbformat_minor": 5
}
