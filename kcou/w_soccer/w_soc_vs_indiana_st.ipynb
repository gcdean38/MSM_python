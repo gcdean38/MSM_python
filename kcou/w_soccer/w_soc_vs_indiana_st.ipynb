{
 "cells": [
  {
   "cell_type": "markdown",
   "id": "f227cce2",
   "metadata": {},
   "source": [
    "## Mizzou vs Indiana State History"
   ]
  },
  {
   "cell_type": "code",
   "execution_count": 39,
   "id": "0e8b5732",
   "metadata": {},
   "outputs": [],
   "source": [
    "from urllib.request import urlopen\n",
    "import pandas as pd"
   ]
  },
  {
   "cell_type": "code",
   "execution_count": 40,
   "id": "79811f74",
   "metadata": {},
   "outputs": [],
   "source": [
    "from bs4 import BeautifulSoup"
   ]
  },
  {
   "cell_type": "code",
   "execution_count": null,
   "id": "004c67eb",
   "metadata": {},
   "outputs": [],
   "source": []
  },
  {
   "cell_type": "code",
   "execution_count": 142,
   "id": "1795ddc7",
   "metadata": {},
   "outputs": [],
   "source": [
    "years = []\n",
    "for year in range(2009,2020):\n",
    "    years.append(str(year))"
   ]
  },
  {
   "cell_type": "code",
   "execution_count": 143,
   "id": "3fd7017c",
   "metadata": {},
   "outputs": [],
   "source": [
    "base_schedule_url = 'https://gosycamores.com/sports/womens-soccer/schedule/'\n",
    "schedule_urls = []\n",
    "for year in years:\n",
    "    isu_schedule_url = base_schedule_url+year\n",
    "    schedule_urls.append(isu_schedule_url)"
   ]
  },
  {
   "cell_type": "code",
   "execution_count": 144,
   "id": "7fc7d565",
   "metadata": {},
   "outputs": [
    {
     "name": "stdout",
     "output_type": "stream",
     "text": [
      "['https://gosycamores.com/sports/womens-soccer/schedule/2009', 'https://gosycamores.com/sports/womens-soccer/schedule/2010', 'https://gosycamores.com/sports/womens-soccer/schedule/2011', 'https://gosycamores.com/sports/womens-soccer/schedule/2012', 'https://gosycamores.com/sports/womens-soccer/schedule/2013', 'https://gosycamores.com/sports/womens-soccer/schedule/2014', 'https://gosycamores.com/sports/womens-soccer/schedule/2015', 'https://gosycamores.com/sports/womens-soccer/schedule/2016', 'https://gosycamores.com/sports/womens-soccer/schedule/2017', 'https://gosycamores.com/sports/womens-soccer/schedule/2018', 'https://gosycamores.com/sports/womens-soccer/schedule/2019']\n"
     ]
    }
   ],
   "source": [
    "print(schedule_urls)"
   ]
  },
  {
   "cell_type": "code",
   "execution_count": 145,
   "id": "acc94f58",
   "metadata": {},
   "outputs": [],
   "source": [
    "isu_hist_schedule = pd.DataFrame(index=None)\n",
    "opponent_list = []\n",
    "date_list = []\n",
    "result_list = []    \n",
    "year_list = []\n",
    "for schedule_url in schedule_urls:\n",
    "    # empty lists\n",
    "\n",
    "    \n",
    "    # Set up parser\n",
    "    page = urlopen(schedule_url)\n",
    "    html = page.read().decode('utf-8')\n",
    "    soup = BeautifulSoup(html,\"html.parser\")\n",
    "    \n",
    "    # pull info\n",
    "    otags = soup.find_all('div',{\"class\":'sidearm-schedule-game-opponent-text'})\n",
    "    dtags = soup.find_all('div',{\"class\":'sidearm-schedule-game-opponent-date'})\n",
    "    rtags = soup.find_all('div',{'class':'sidearm-schedule-game-result'})\n",
    "    \n",
    "    # get result tag\n",
    "    for rtag in rtags[1::2]:\n",
    "        game_result = rtag.find('span')\n",
    "        if game_result:\n",
    "            game_results = rtag.text\n",
    "            \n",
    "            #store names\n",
    "            result_list.append(game_results.strip().replace('\\n',\" \"))\n",
    "            # print(game_results.strip().replace('\\n',\" \")+\", year: \"+schedule_url[-4:])\n",
    "            \n",
    "    # get opponent tag\n",
    "    for otag in otags[1::2]:\n",
    "\n",
    "        if opponent:\n",
    "            opponents = otag.text\n",
    "\n",
    "            # store names\n",
    "            opponent_list.append(opponents.strip().replace(\"\\n\",\" \"))\n",
    "\n",
    "            # print(opponent_names.strip())\n",
    "        year_list.append(schedule_url[-4:])\n",
    "    # get date tag\n",
    "    for dtag in dtags:\n",
    "        game_date = dtag.find('span')\n",
    "        if game_date:\n",
    "            game_dates = dtag.text\n",
    "            \n",
    "            # store names\n",
    "            date_list.append(game_dates.strip().replace(\"\\n\",\" \"))\n",
    "            # print(game_dates.strip())\n"
   ]
  },
  {
   "cell_type": "code",
   "execution_count": 146,
   "id": "20ed11c8",
   "metadata": {},
   "outputs": [
    {
     "data": {
      "text/plain": [
       "220"
      ]
     },
     "execution_count": 146,
     "metadata": {},
     "output_type": "execute_result"
    }
   ],
   "source": [
    "len(result_list)"
   ]
  },
  {
   "cell_type": "code",
   "execution_count": 147,
   "id": "3464a0b3",
   "metadata": {},
   "outputs": [],
   "source": [
    "isu_hist_schedule['opponent'] = opponent_list\n",
    "isu_hist_schedule['game_full_date'] = date_list\n",
    "isu_hist_schedule['game_year'] = year_list\n",
    "isu_hist_schedule['game_result'] = result_list\n",
    "\n",
    "isu_hist_schedule[['game_date','game_full_date']] = isu_hist_schedule['game_full_date'].str.split(\"(\",expand=True)\n",
    "isu_hist_schedule[['game_day_of_week','game_time']] = isu_hist_schedule['game_full_date'].str.split(\")\",expand=True)\n",
    "isu_hist_schedule[['game_result','game_score']] = isu_hist_schedule['game_result'].str.split(',',expand=True)"
   ]
  },
  {
   "cell_type": "code",
   "execution_count": 166,
   "id": "de382f08",
   "metadata": {},
   "outputs": [],
   "source": [
    "isu_hist_schedule = isu_hist_schedule.replace('OT W',\"W\")\n",
    "isu_hist_schedule = isu_hist_schedule.replace('OT L',\"L\")\n",
    "isu_hist_schedule = isu_hist_schedule.replace('2OT W',\"W\")\n",
    "isu_hist_schedule = isu_hist_schedule.replace('2OT L',\"L\")\n",
    "isu_hist_schedule = isu_hist_schedule.replace('4-3 PKs T',\"T\")\n",
    "isu_hist_schedule = isu_hist_schedule.replace(\"W(3-2 in PK's) T\",\"T\")\n",
    "isu_hist_schedule = isu_hist_schedule.replace(\"\",\"N/A\")"
   ]
  },
  {
   "cell_type": "code",
   "execution_count": 167,
   "id": "00344b48",
   "metadata": {
    "scrolled": true
   },
   "outputs": [
    {
     "data": {
      "text/plain": [
       "L      118\n",
       "W       70\n",
       "T       19\n",
       "N/A     13\n",
       "Name: game_result, dtype: int64"
      ]
     },
     "execution_count": 167,
     "metadata": {},
     "output_type": "execute_result"
    }
   ],
   "source": [
    "isu_hist_schedule['game_result'].value_counts()"
   ]
  },
  {
   "cell_type": "code",
   "execution_count": 168,
   "id": "63d4f46f",
   "metadata": {},
   "outputs": [
    {
     "data": {
      "text/html": [
       "<div>\n",
       "<style scoped>\n",
       "    .dataframe tbody tr th:only-of-type {\n",
       "        vertical-align: middle;\n",
       "    }\n",
       "\n",
       "    .dataframe tbody tr th {\n",
       "        vertical-align: top;\n",
       "    }\n",
       "\n",
       "    .dataframe thead th {\n",
       "        text-align: right;\n",
       "    }\n",
       "</style>\n",
       "<table border=\"1\" class=\"dataframe\">\n",
       "  <thead>\n",
       "    <tr style=\"text-align: right;\">\n",
       "      <th>game_result</th>\n",
       "      <th>L</th>\n",
       "      <th>N/A</th>\n",
       "      <th>T</th>\n",
       "      <th>W</th>\n",
       "    </tr>\n",
       "    <tr>\n",
       "      <th>game_year</th>\n",
       "      <th></th>\n",
       "      <th></th>\n",
       "      <th></th>\n",
       "      <th></th>\n",
       "    </tr>\n",
       "  </thead>\n",
       "  <tbody>\n",
       "    <tr>\n",
       "      <th>2009</th>\n",
       "      <td>11</td>\n",
       "      <td>0</td>\n",
       "      <td>3</td>\n",
       "      <td>5</td>\n",
       "    </tr>\n",
       "    <tr>\n",
       "      <th>2010</th>\n",
       "      <td>12</td>\n",
       "      <td>0</td>\n",
       "      <td>1</td>\n",
       "      <td>8</td>\n",
       "    </tr>\n",
       "    <tr>\n",
       "      <th>2011</th>\n",
       "      <td>13</td>\n",
       "      <td>2</td>\n",
       "      <td>0</td>\n",
       "      <td>4</td>\n",
       "    </tr>\n",
       "    <tr>\n",
       "      <th>2012</th>\n",
       "      <td>9</td>\n",
       "      <td>2</td>\n",
       "      <td>3</td>\n",
       "      <td>9</td>\n",
       "    </tr>\n",
       "    <tr>\n",
       "      <th>2013</th>\n",
       "      <td>10</td>\n",
       "      <td>2</td>\n",
       "      <td>0</td>\n",
       "      <td>9</td>\n",
       "    </tr>\n",
       "    <tr>\n",
       "      <th>2014</th>\n",
       "      <td>9</td>\n",
       "      <td>0</td>\n",
       "      <td>3</td>\n",
       "      <td>5</td>\n",
       "    </tr>\n",
       "    <tr>\n",
       "      <th>2015</th>\n",
       "      <td>10</td>\n",
       "      <td>5</td>\n",
       "      <td>1</td>\n",
       "      <td>6</td>\n",
       "    </tr>\n",
       "    <tr>\n",
       "      <th>2016</th>\n",
       "      <td>11</td>\n",
       "      <td>2</td>\n",
       "      <td>2</td>\n",
       "      <td>7</td>\n",
       "    </tr>\n",
       "    <tr>\n",
       "      <th>2017</th>\n",
       "      <td>11</td>\n",
       "      <td>0</td>\n",
       "      <td>1</td>\n",
       "      <td>7</td>\n",
       "    </tr>\n",
       "    <tr>\n",
       "      <th>2018</th>\n",
       "      <td>10</td>\n",
       "      <td>0</td>\n",
       "      <td>3</td>\n",
       "      <td>6</td>\n",
       "    </tr>\n",
       "    <tr>\n",
       "      <th>2019</th>\n",
       "      <td>12</td>\n",
       "      <td>0</td>\n",
       "      <td>2</td>\n",
       "      <td>4</td>\n",
       "    </tr>\n",
       "  </tbody>\n",
       "</table>\n",
       "</div>"
      ],
      "text/plain": [
       "game_result   L  N/A  T  W\n",
       "game_year                 \n",
       "2009         11    0  3  5\n",
       "2010         12    0  1  8\n",
       "2011         13    2  0  4\n",
       "2012          9    2  3  9\n",
       "2013         10    2  0  9\n",
       "2014          9    0  3  5\n",
       "2015         10    5  1  6\n",
       "2016         11    2  2  7\n",
       "2017         11    0  1  7\n",
       "2018         10    0  3  6\n",
       "2019         12    0  2  4"
      ]
     },
     "execution_count": 168,
     "metadata": {},
     "output_type": "execute_result"
    }
   ],
   "source": [
    "pd.crosstab(index = isu_hist_schedule['game_year'], columns = isu_hist_schedule['game_result'])"
   ]
  },
  {
   "cell_type": "code",
   "execution_count": 169,
   "id": "190db0f4",
   "metadata": {},
   "outputs": [
    {
     "data": {
      "text/html": [
       "<div>\n",
       "<style scoped>\n",
       "    .dataframe tbody tr th:only-of-type {\n",
       "        vertical-align: middle;\n",
       "    }\n",
       "\n",
       "    .dataframe tbody tr th {\n",
       "        vertical-align: top;\n",
       "    }\n",
       "\n",
       "    .dataframe thead th {\n",
       "        text-align: right;\n",
       "    }\n",
       "</style>\n",
       "<table border=\"1\" class=\"dataframe\">\n",
       "  <thead>\n",
       "    <tr style=\"text-align: right;\">\n",
       "      <th>game_result</th>\n",
       "      <th>L</th>\n",
       "      <th>N/A</th>\n",
       "      <th>T</th>\n",
       "      <th>W</th>\n",
       "    </tr>\n",
       "    <tr>\n",
       "      <th>game_day_of_week</th>\n",
       "      <th></th>\n",
       "      <th></th>\n",
       "      <th></th>\n",
       "      <th></th>\n",
       "    </tr>\n",
       "  </thead>\n",
       "  <tbody>\n",
       "    <tr>\n",
       "      <th>Fri</th>\n",
       "      <td>39</td>\n",
       "      <td>1</td>\n",
       "      <td>7</td>\n",
       "      <td>28</td>\n",
       "    </tr>\n",
       "    <tr>\n",
       "      <th>Mon</th>\n",
       "      <td>1</td>\n",
       "      <td>1</td>\n",
       "      <td>0</td>\n",
       "      <td>0</td>\n",
       "    </tr>\n",
       "    <tr>\n",
       "      <th>Sat</th>\n",
       "      <td>10</td>\n",
       "      <td>4</td>\n",
       "      <td>3</td>\n",
       "      <td>5</td>\n",
       "    </tr>\n",
       "    <tr>\n",
       "      <th>Sun</th>\n",
       "      <td>45</td>\n",
       "      <td>3</td>\n",
       "      <td>9</td>\n",
       "      <td>28</td>\n",
       "    </tr>\n",
       "    <tr>\n",
       "      <th>Thu</th>\n",
       "      <td>10</td>\n",
       "      <td>0</td>\n",
       "      <td>0</td>\n",
       "      <td>5</td>\n",
       "    </tr>\n",
       "    <tr>\n",
       "      <th>Tue</th>\n",
       "      <td>1</td>\n",
       "      <td>3</td>\n",
       "      <td>0</td>\n",
       "      <td>0</td>\n",
       "    </tr>\n",
       "    <tr>\n",
       "      <th>Wed</th>\n",
       "      <td>12</td>\n",
       "      <td>1</td>\n",
       "      <td>0</td>\n",
       "      <td>4</td>\n",
       "    </tr>\n",
       "  </tbody>\n",
       "</table>\n",
       "</div>"
      ],
      "text/plain": [
       "game_result        L  N/A  T   W\n",
       "game_day_of_week                \n",
       "Fri               39    1  7  28\n",
       "Mon                1    1  0   0\n",
       "Sat               10    4  3   5\n",
       "Sun               45    3  9  28\n",
       "Thu               10    0  0   5\n",
       "Tue                1    3  0   0\n",
       "Wed               12    1  0   4"
      ]
     },
     "execution_count": 169,
     "metadata": {},
     "output_type": "execute_result"
    }
   ],
   "source": [
    "pd.crosstab(index = isu_hist_schedule['game_day_of_week'], columns = isu_hist_schedule['game_result'])"
   ]
  },
  {
   "cell_type": "code",
   "execution_count": null,
   "id": "180c6449",
   "metadata": {},
   "outputs": [],
   "source": []
  },
  {
   "cell_type": "code",
   "execution_count": null,
   "id": "efd826ab",
   "metadata": {},
   "outputs": [],
   "source": []
  },
  {
   "cell_type": "code",
   "execution_count": null,
   "id": "1683dccd",
   "metadata": {},
   "outputs": [],
   "source": []
  }
 ],
 "metadata": {
  "kernelspec": {
   "display_name": "Python 3",
   "language": "python",
   "name": "python3"
  },
  "language_info": {
   "codemirror_mode": {
    "name": "ipython",
    "version": 3
   },
   "file_extension": ".py",
   "mimetype": "text/x-python",
   "name": "python",
   "nbconvert_exporter": "python",
   "pygments_lexer": "ipython3",
   "version": "3.8.8"
  }
 },
 "nbformat": 4,
 "nbformat_minor": 5
}
